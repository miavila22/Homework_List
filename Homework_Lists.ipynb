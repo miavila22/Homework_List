{
 "cells": [
  {
   "cell_type": "markdown",
   "metadata": {},
   "source": [
    "# Functions, Scoping, Data Collections 1 & List Comprehensions"
   ]
  },
  {
   "cell_type": "markdown",
   "metadata": {},
   "source": [
    "## Tasks Today:\n",
    "\n",
    "<i>Monday Additions (for loops)</i>\n",
    "\n",
    "1) For Loops <br>\n",
    " &nbsp;&nbsp;&nbsp;&nbsp; a) Using 'in' keyword <br>\n",
    " &nbsp;&nbsp;&nbsp;&nbsp; b) Continue Statement <br>\n",
    " &nbsp;&nbsp;&nbsp;&nbsp; c) Break Statement <br>\n",
    " &nbsp;&nbsp;&nbsp;&nbsp; d) Pass Statement <br>\n",
    " &nbsp;&nbsp;&nbsp;&nbsp; e) Double For Loops <br>\n",
    "2) While Loops <br>\n",
    " &nbsp;&nbsp;&nbsp;&nbsp; a) Looping 'While True' <br>\n",
    " &nbsp;&nbsp;&nbsp;&nbsp; b) While and For Loops Used Together <br>\n",
    " \n",
    "3) Lists <br>\n",
    " &nbsp;&nbsp;&nbsp;&nbsp; a) Declaring Lists <br>\n",
    " &nbsp;&nbsp;&nbsp;&nbsp; b) Indexing a List <br>\n",
    " &nbsp;&nbsp;&nbsp;&nbsp; c) .append() <br>\n",
    " &nbsp;&nbsp;&nbsp;&nbsp; d) .insert() <br>\n",
    " &nbsp;&nbsp;&nbsp;&nbsp; e) .pop() <br>\n",
    " &nbsp;&nbsp;&nbsp;&nbsp; f) .remove() <br>\n",
    " &nbsp;&nbsp;&nbsp;&nbsp; g) del() <br>\n",
    " &nbsp;&nbsp;&nbsp;&nbsp; h) Concatenating Two Lists <br>\n",
    " &nbsp;&nbsp;&nbsp;&nbsp; i) Lists Within Lists <br>\n",
    " &nbsp;&nbsp;&nbsp;&nbsp; j) Looping Through Lists <br>\n",
    "4) Working With Lists <br>\n",
    " &nbsp;&nbsp;&nbsp;&nbsp; a) min() <br>\n",
    " &nbsp;&nbsp;&nbsp;&nbsp; b) max() <br>\n",
    " &nbsp;&nbsp;&nbsp;&nbsp; c) sum() <br>\n",
    " &nbsp;&nbsp;&nbsp;&nbsp; d) sort() <br>\n",
    " &nbsp;&nbsp;&nbsp;&nbsp; e) Copying a List <br>\n",
    " &nbsp;&nbsp;&nbsp;&nbsp; f) 'in' keyword <br>\n",
    " &nbsp;&nbsp;&nbsp;&nbsp; g) 'not in' keyword <br>\n",
    " &nbsp;&nbsp;&nbsp;&nbsp; i) Checking an Empty List <br>\n",
    " &nbsp;&nbsp;&nbsp;&nbsp; j) Removing Instances with a Loop <br> \n",
    "5) List Comprehensions <br>\n",
    "6) Tuples <br>\n",
    " &nbsp;&nbsp;&nbsp;&nbsp; a) sorted() <br>\n"
   ]
  },
  {
   "cell_type": "markdown",
   "metadata": {},
   "source": [
    "### For Loops"
   ]
  },
  {
   "cell_type": "code",
   "execution_count": 11,
   "metadata": {},
   "outputs": [
    {
     "name": "stdout",
     "output_type": "stream",
     "text": [
      "0\n",
      "1\n",
      "2\n",
      "3\n",
      "4\n",
      "5\n",
      "6\n",
      "7\n",
      "8\n",
      "9\n",
      "S\n",
      "o\n",
      "n\n",
      "i\n",
      "c\n",
      "\n",
      "\n",
      "5\n",
      "S at index 0\n",
      "o at index 1\n",
      "n at index 2\n",
      "i at index 3\n",
      "c at index 4\n"
     ]
    }
   ],
   "source": [
    "# for keyword, counter/iterator variable, in keyword, object\n",
    "#looping through a range.\n",
    "# #star, stop, step\n",
    "# for i in range(10):\n",
    "#     print(i)\n",
    "\n",
    "# name = \"Sonic\"\n",
    "\n",
    "# for letter in name:\n",
    "#     print(letter)\n",
    "\n",
    "# #looping by value\n",
    "\n",
    "# print('\\n')\n",
    "\n",
    "\n",
    "\n",
    "# #len() returns the length of a interable/object\n",
    "# length = len(name)\n",
    "# print(length)\n",
    "\n",
    "# # loop by index\n",
    "\n",
    "# for i in range(len(name)):\n",
    "#     print(name[i], \"at index\", i)\n",
    "    \n"
   ]
  },
  {
   "cell_type": "markdown",
   "metadata": {},
   "source": [
    "##### Using 'in' keyword"
   ]
  },
  {
   "cell_type": "code",
   "execution_count": 20,
   "metadata": {},
   "outputs": [
    {
     "name": "stdout",
     "output_type": "stream",
     "text": [
      "0\n",
      "2\n",
      "4\n",
      "6\n",
      "8\n",
      "10\n",
      "12\n",
      "14\n",
      "16\n",
      "18\n",
      "20\n",
      "22\n",
      "24\n",
      "26\n",
      "28\n",
      "30\n",
      "32\n",
      "34\n",
      "36\n",
      "38\n",
      "totally tubular\n"
     ]
    }
   ],
   "source": [
    "#in is what accesses the items in an iterable\n",
    "#should double each number from 0-20\n",
    "for num in range(20):\n",
    "    print(num*2)\n",
    "\n",
    "book = \"Two Towers\"\n",
    "\n",
    "if \"T\" in book:\n",
    "    print(\"totally tubular\")\n",
    "else:\n",
    "    print(\"no\")\n",
    "\n"
   ]
  },
  {
   "cell_type": "markdown",
   "metadata": {},
   "source": [
    "##### Continue Statement"
   ]
  },
  {
   "cell_type": "code",
   "execution_count": 21,
   "metadata": {},
   "outputs": [
    {
     "name": "stdout",
     "output_type": "stream",
     "text": [
      "0\n",
      "1\n",
      "2\n",
      "3\n",
      "4\n",
      "7\n",
      "8\n",
      "9\n",
      "10\n",
      "11\n",
      "12\n",
      "13\n",
      "14\n",
      "15\n",
      "16\n",
      "17\n",
      "18\n",
      "19\n"
     ]
    }
   ],
   "source": [
    "#continue will skip over an item in an iterable based on a condition\n",
    "for i in range(20):\n",
    "    if i == 5 or i == 6: #it is going to skip the number 5 and 6. \n",
    "        continue\n",
    "    else:\n",
    "        print(i)\n",
    "    \n",
    "\n"
   ]
  },
  {
   "cell_type": "markdown",
   "metadata": {},
   "source": [
    "##### Break Statement"
   ]
  },
  {
   "cell_type": "code",
   "execution_count": 25,
   "metadata": {},
   "outputs": [
    {
     "name": "stdout",
     "output_type": "stream",
     "text": [
      "0\n",
      "1\n",
      "2\n",
      "3\n"
     ]
    }
   ],
   "source": [
    "#break out of current loop\n",
    "for i in range(10):\n",
    "    if i == 4:\n",
    "        break\n",
    "    print(i)\n"
   ]
  },
  {
   "cell_type": "markdown",
   "metadata": {},
   "source": [
    "##### Pass Statement"
   ]
  },
  {
   "cell_type": "code",
   "execution_count": 27,
   "metadata": {},
   "outputs": [
    {
     "name": "stdout",
     "output_type": "stream",
     "text": [
      "hello\n"
     ]
    }
   ],
   "source": [
    "# mostly used as a placeholder, and will continue on same iteration\n",
    "for i in range(20):\n",
    "    pass #to do :comeback and do stuff here later\n",
    "\n",
    "def add_to_cart():\n",
    "    pass\n",
    "\n",
    "def checkout():\n",
    "    pass\n",
    "\n",
    "def thank_the_cashier():\n",
    "    pass\n",
    "\n",
    "print(\"hello\")\n",
    "    "
   ]
  },
  {
   "cell_type": "markdown",
   "metadata": {},
   "source": [
    "##### Double For Loops"
   ]
  },
  {
   "cell_type": "code",
   "execution_count": 32,
   "metadata": {},
   "outputs": [
    {
     "name": "stdout",
     "output_type": "stream",
     "text": [
      "i =  0 j =  0\n",
      "i =  0 j =  1\n",
      "i =  0 j =  2\n",
      "i =  0 j =  3\n",
      "i =  0 j =  4\n",
      "i =  1 j =  0\n",
      "i =  1 j =  1\n",
      "i =  1 j =  2\n",
      "i =  1 j =  3\n",
      "i =  1 j =  4\n",
      "i =  2 j =  0\n",
      "i =  2 j =  1\n",
      "i =  2 j =  2\n",
      "i =  2 j =  3\n",
      "i =  2 j =  4\n",
      "i =  3 j =  0\n",
      "i =  3 j =  1\n",
      "i =  3 j =  2\n",
      "i =  3 j =  3\n",
      "i =  3 j =  4\n",
      "i =  4 j =  0\n",
      "i =  4 j =  1\n",
      "i =  4 j =  2\n",
      "i =  4 j =  3\n",
      "i =  4 j =  4\n"
     ]
    }
   ],
   "source": [
    "for i in range(5):\n",
    "    for j in range(5):\n",
    "        print(\"i = \", i, \"j = \", j)"
   ]
  },
  {
   "cell_type": "code",
   "execution_count": 35,
   "metadata": {},
   "outputs": [
    {
     "name": "stdout",
     "output_type": "stream",
     "text": [
      "2\n",
      "3\n",
      "4\n",
      "5\n",
      "6\n",
      "7\n",
      "3\n",
      "4\n",
      "5\n",
      "6\n",
      "7\n",
      "8\n",
      "4\n",
      "5\n",
      "6\n",
      "7\n",
      "8\n",
      "9\n",
      "5\n",
      "6\n",
      "7\n",
      "8\n",
      "9\n",
      "10\n",
      "6\n",
      "7\n",
      "8\n",
      "9\n",
      "10\n",
      "11\n",
      "7\n",
      "8\n",
      "9\n",
      "10\n",
      "11\n",
      "12\n"
     ]
    }
   ],
   "source": [
    "my_list = [1,2,3,4,5,6]\n",
    "for num in my_list:\n",
    "    for num2 in my_list:\n",
    "        print(num + num2)"
   ]
  },
  {
   "cell_type": "markdown",
   "metadata": {},
   "source": [
    "### While Loops"
   ]
  },
  {
   "cell_type": "code",
   "execution_count": 37,
   "metadata": {},
   "outputs": [
    {
     "name": "stdout",
     "output_type": "stream",
     "text": [
      "1\n",
      "2\n",
      "3\n",
      "4\n",
      "5\n",
      "6\n",
      "7\n",
      "8\n",
      "9\n",
      "10\n",
      "11\n"
     ]
    }
   ],
   "source": [
    "#while keyword, condition statement\n",
    "#while loop will run based on the condition statement\n",
    "counter = 0\n",
    "while counter < 11:\n",
    "    counter += 1 \n",
    "    print(counter)\n",
    "\n"
   ]
  },
  {
   "cell_type": "markdown",
   "metadata": {},
   "source": [
    "##### looping 'While True'"
   ]
  },
  {
   "cell_type": "code",
   "execution_count": 39,
   "metadata": {},
   "outputs": [
    {
     "name": "stdout",
     "output_type": "stream",
     "text": [
      "0\n",
      "1\n",
      "2\n",
      "3\n",
      "4\n"
     ]
    }
   ],
   "source": [
    "# true as a condition for while loop to run\n",
    "#true\n",
    "#False\n",
    "counter = 0\n",
    "while True:\n",
    "    print(counter)\n",
    "    counter += 1\n",
    "    if counter == 5:\n",
    "        break"
   ]
  },
  {
   "cell_type": "code",
   "execution_count": 41,
   "metadata": {},
   "outputs": [
    {
     "name": "stdout",
     "output_type": "stream",
     "text": [
      "infinite loop\n"
     ]
    }
   ],
   "source": [
    "game_over = False\n",
    "while True:\n",
    "    print(\"infinite loop\")\n",
    "    if game_over == False:\n",
    "        break"
   ]
  },
  {
   "cell_type": "code",
   "execution_count": 44,
   "metadata": {},
   "outputs": [
    {
     "name": "stdout",
     "output_type": "stream",
     "text": [
      "2\n",
      "5\n",
      "4\n"
     ]
    }
   ],
   "source": [
    "game = True\n",
    "my_list = [2,5,4,7,6]\n",
    "i =0\n",
    "while game:\n",
    "    if my_list[i] ==4:\n",
    "        game = False\n",
    "    print(my_list[i])\n",
    "    i+=1\n",
    "    "
   ]
  },
  {
   "cell_type": "markdown",
   "metadata": {},
   "source": [
    "##### While & For Loops Used Together"
   ]
  },
  {
   "cell_type": "code",
   "execution_count": 45,
   "metadata": {},
   "outputs": [
    {
     "name": "stdout",
     "output_type": "stream",
     "text": [
      "while loop iteration: 0\n",
      "while loop iteration: 1\n",
      "For loop iteration: 0\n",
      "while loop iteration: 2\n",
      "For loop iteration: 0\n",
      "For loop iteration: 1\n",
      "while loop iteration: 3\n",
      "For loop iteration: 0\n",
      "For loop iteration: 1\n",
      "For loop iteration: 2\n",
      "while loop iteration: 4\n",
      "For loop iteration: 0\n",
      "For loop iteration: 1\n",
      "For loop iteration: 2\n",
      "For loop iteration: 3\n",
      "while loop iteration: 5\n",
      "For loop iteration: 0\n",
      "For loop iteration: 1\n",
      "For loop iteration: 2\n",
      "For loop iteration: 3\n",
      "For loop iteration: 4\n",
      "while loop iteration: 6\n",
      "For loop iteration: 0\n",
      "For loop iteration: 1\n",
      "For loop iteration: 2\n",
      "For loop iteration: 3\n",
      "For loop iteration: 4\n",
      "For loop iteration: 5\n",
      "while loop iteration: 7\n",
      "For loop iteration: 0\n",
      "For loop iteration: 1\n",
      "For loop iteration: 2\n",
      "For loop iteration: 3\n",
      "For loop iteration: 4\n",
      "For loop iteration: 5\n",
      "For loop iteration: 6\n",
      "while loop iteration: 8\n",
      "For loop iteration: 0\n",
      "For loop iteration: 1\n",
      "For loop iteration: 2\n",
      "For loop iteration: 3\n",
      "For loop iteration: 4\n",
      "For loop iteration: 5\n",
      "For loop iteration: 6\n",
      "For loop iteration: 7\n",
      "while loop iteration: 9\n",
      "For loop iteration: 0\n",
      "For loop iteration: 1\n",
      "For loop iteration: 2\n",
      "For loop iteration: 3\n",
      "For loop iteration: 4\n",
      "For loop iteration: 5\n",
      "For loop iteration: 6\n",
      "For loop iteration: 7\n",
      "For loop iteration: 8\n"
     ]
    }
   ],
   "source": [
    "j = 0\n",
    "\n",
    "while j < 10:\n",
    "    print(f\"while loop iteration: {j}\")\n",
    "\n",
    "    for i in range(j):\n",
    "        print(f\"For loop iteration: {i}\")\n",
    "    j += 1"
   ]
  },
  {
   "cell_type": "markdown",
   "metadata": {},
   "source": [
    "##### The Range Function"
   ]
  },
  {
   "cell_type": "code",
   "execution_count": 59,
   "metadata": {},
   "outputs": [
    {
     "name": "stdout",
     "output_type": "stream",
     "text": [
      "0\n",
      "1\n",
      "2\n",
      "3\n",
      "4\n",
      "5\n",
      "6\n",
      "7\n",
      "8\n",
      "9\n",
      "\n",
      "\n",
      "10\n",
      "11\n",
      "12\n",
      "13\n",
      "14\n",
      "15\n",
      "16\n",
      "17\n",
      "18\n",
      "19\n",
      "20\n",
      "21\n",
      "22\n",
      "23\n",
      "24\n",
      "\n",
      "\n",
      "10\n",
      "15\n",
      "20\n",
      "25\n",
      "30\n",
      "35\n",
      "40\n",
      "45\n",
      "50\n",
      "55\n",
      "60\n",
      "65\n",
      "70\n",
      "75\n",
      "80\n",
      "85\n",
      "90\n",
      "95\n"
     ]
    }
   ],
   "source": [
    "# range(start, stop, step) - stop is required and start defaults to 0 if none is given\n",
    "#range(stop)\n",
    "for num in range(10):\n",
    "    print(num)\n",
    "\n",
    "print(\"\\n\")\n",
    "#range(start,stop)\n",
    "for num in range(10,25):\n",
    "    print(num)\n",
    "    \n",
    "print(\"\\n\")\n",
    "#range(start,stop, step)\n",
    "\n",
    "for num in range (10, 100, 5):\n",
    "    print(num)"
   ]
  },
  {
   "cell_type": "markdown",
   "metadata": {},
   "source": [
    "### String Manipulation Exercise"
   ]
  },
  {
   "cell_type": "code",
   "execution_count": 70,
   "metadata": {},
   "outputs": [
    {
     "name": "stdout",
     "output_type": "stream",
     "text": [
      "Connor\n",
      "Max\n",
      "Evan\n",
      "Jordan\n"
     ]
    }
   ],
   "source": [
    "names = ['    coNNor', 'max', ' EVan ', 'JORDAN']\n",
    "# HINT: You will need to use a for loop for iteration\n",
    "# Loop through the names list, remove white space and capitalize the first letter of each name. Print each new name.\n",
    "for n in names:\n",
    "    new_name = n.strip().lower().title()\n",
    "    print(new_name)\n"
   ]
  },
  {
   "cell_type": "markdown",
   "metadata": {},
   "source": [
    "## Lists"
   ]
  },
  {
   "cell_type": "markdown",
   "metadata": {},
   "source": [
    "##### Declaring Lists"
   ]
  },
  {
   "cell_type": "code",
   "execution_count": 66,
   "metadata": {},
   "outputs": [
    {
     "name": "stdout",
     "output_type": "stream",
     "text": [
      "[]\n",
      "['ADTR', 'JS', 'CIS']\n"
     ]
    }
   ],
   "source": [
    "#square brackets is a list []. anything wrapped in this is a list of this or that.\n",
    "#declaring an empty list\n",
    "our_list = []\n",
    "print(our_list)\n",
    "names = [\"ADTR\", \"JS\", \"CIS\"]\n",
    "numbers = [1,2,3,4]\n",
    "\n",
    "print(names)\n",
    "         \n"
   ]
  },
  {
   "cell_type": "markdown",
   "metadata": {},
   "source": [
    "##### Indexing a List"
   ]
  },
  {
   "cell_type": "code",
   "execution_count": 79,
   "metadata": {},
   "outputs": [
    {
     "name": "stdout",
     "output_type": "stream",
     "text": [
      "R\n",
      "M\n",
      "4\n",
      "R at index 0\n",
      "J at index 1\n",
      "B at index 2\n",
      "M at index 3\n",
      "0\n",
      "R\n",
      "1\n",
      "J\n",
      "2\n",
      "B\n",
      "3\n",
      "M\n"
     ]
    }
   ],
   "source": [
    "# [start: stop: step] --> last item [-1]\n",
    "# we index into a list with [] following list name \n",
    "#0 in always the first position in a list. \n",
    "\n",
    "names = [\"R\", \"J\", \"B\", \"M\"]\n",
    "print(names[0])\n",
    "\n",
    "#Negative numbers is the last position in a list\n",
    "print(names[-1])\n",
    "\n",
    "print(len(names))\n",
    "print(names[0], \"at index 0\")\n",
    "print(names[1], \"at index 1\")\n",
    "print(names[2], \"at index 2\")\n",
    "print(names[3], \"at index 3\")\n",
    "\n",
    "\n",
    "\n",
    "for i in range(len(names)):\n",
    "    print(i)\n",
    "    print(names[i])\n",
    "\n"
   ]
  },
  {
   "cell_type": "code",
   "execution_count": 98,
   "metadata": {},
   "outputs": [
    {
     "name": "stdout",
     "output_type": "stream",
     "text": [
      "Connor\n",
      "['Ryan', 'Juan', 'Ben', 'Connor', 'Miguel', 'Grace']\n",
      "['Liz', 'Ryan', 'Juan']\n",
      "['Ryan', 'Ben', 'Miguel']\n",
      "['Grace', 'Miguel', 'Connor', 'Ben', 'Juan', 'Ryan', 'Liz']\n"
     ]
    }
   ],
   "source": [
    "# [start: stop: step] --> last item [-1]\n",
    "# LIST SLICING\n",
    "names = [\"Liz\",'Ryan', \"Juan\", \"Ben\", \"Connor\", \"Miguel\", \"Grace\"]\n",
    "# single index\n",
    "print(names[4])\n",
    "\n",
    "# print starting at index 1 and go to the end of the list\n",
    "print(names[1:])\n",
    "\n",
    "# start at the beginning and go to a specified index\n",
    "print(names[:3])\n",
    "\n",
    "# starting at index 1 and stepping by 2 through the list\n",
    "# print(names[1::2])\n",
    "new_names = names[1::2]\n",
    "print(new_names)\n",
    "\n",
    "# reverse a list\n",
    "print(names[::-1])"
   ]
  },
  {
   "cell_type": "markdown",
   "metadata": {},
   "source": [
    "### List Methods\n",
    "\n"
   ]
  },
  {
   "cell_type": "markdown",
   "metadata": {},
   "source": [
    "##### .append()"
   ]
  },
  {
   "cell_type": "code",
   "execution_count": 99,
   "metadata": {},
   "outputs": [
    {
     "name": "stdout",
     "output_type": "stream",
     "text": [
      "['Grace', 'Justin', 'Michael', 'Connor', 'Wil']\n",
      "['Grace', 'Justin', 'Michael', 'Connor', 'Wil', 'Kym']\n"
     ]
    }
   ],
   "source": [
    "#append add a new item to the end of the list \n",
    "names = [\"Grace\", \"Justin\", \"Michael\", \"Connor\", \"Wil\"]\n",
    "print(names)\n",
    "names.append(\"Kym\")\n",
    "print(names)\n",
    "\n"
   ]
  },
  {
   "cell_type": "code",
   "execution_count": null,
   "metadata": {},
   "outputs": [],
   "source": []
  },
  {
   "cell_type": "markdown",
   "metadata": {},
   "source": [
    "##### .insert()"
   ]
  },
  {
   "cell_type": "code",
   "execution_count": 100,
   "metadata": {},
   "outputs": [
    {
     "name": "stdout",
     "output_type": "stream",
     "text": [
      "['Grace', 'Justin', 'Michael', 'Connor', 'Wil', 'Kym']\n",
      "['Grace', 'Justin', 'Michael', 'Bikram', 'Connor', 'Wil', 'Kym']\n"
     ]
    }
   ],
   "source": [
    "#our_list.insert(index, value) inset a value in a specified index\n",
    "print(names)\n",
    "names.insert(3, \"Bikram\")\n",
    "print(names)\n",
    "\n"
   ]
  },
  {
   "cell_type": "markdown",
   "metadata": {},
   "source": [
    "##### .pop()"
   ]
  },
  {
   "cell_type": "code",
   "execution_count": 101,
   "metadata": {
    "scrolled": true
   },
   "outputs": [
    {
     "name": "stdout",
     "output_type": "stream",
     "text": [
      "Michael\n",
      "['Grace', 'Justin', 'Bikram', 'Connor', 'Wil', 'Kym']\n"
     ]
    },
    {
     "ename": "NameError",
     "evalue": "name 'name2' is not defined",
     "output_type": "error",
     "traceback": [
      "\u001b[1;31m---------------------------------------------------------------------------\u001b[0m",
      "\u001b[1;31mNameError\u001b[0m                                 Traceback (most recent call last)",
      "Cell \u001b[1;32mIn[101], line 10\u001b[0m\n\u001b[0;32m      7\u001b[0m \u001b[38;5;66;03m#removes last item by default\u001b[39;00m\n\u001b[0;32m      9\u001b[0m names2 \u001b[38;5;241m=\u001b[39m names\u001b[38;5;241m.\u001b[39mpop()\n\u001b[1;32m---> 10\u001b[0m \u001b[38;5;28mprint\u001b[39m(\u001b[43mname2\u001b[49m)\n\u001b[0;32m     11\u001b[0m \u001b[38;5;28mprint\u001b[39m(name3)\n",
      "\u001b[1;31mNameError\u001b[0m: name 'name2' is not defined"
     ]
    }
   ],
   "source": [
    "# default is the last value if no parameter is given\n",
    "# pop returns the element that was removed in case you want to assign it into a variable\n",
    "name = names.pop(2)\n",
    "print(name)\n",
    "print(names)\n",
    "\n",
    "#removes last item by default\n",
    "\n",
    "names2 = names.pop()\n",
    "print(name2)\n",
    "print(name3)\n",
    "\n",
    "\n"
   ]
  },
  {
   "cell_type": "markdown",
   "metadata": {},
   "source": [
    "##### .remove()"
   ]
  },
  {
   "cell_type": "code",
   "execution_count": 102,
   "metadata": {},
   "outputs": [
    {
     "name": "stdout",
     "output_type": "stream",
     "text": [
      "['Grace', 'Justin', 'Bikram', 'Wil']\n"
     ]
    }
   ],
   "source": [
    "# value to be removed, not an index\n",
    "names.remove(\"Connor\")\n",
    "print(names)\n"
   ]
  },
  {
   "cell_type": "markdown",
   "metadata": {},
   "source": [
    "### Working With Lists"
   ]
  },
  {
   "cell_type": "markdown",
   "metadata": {},
   "source": [
    "##### del()"
   ]
  },
  {
   "cell_type": "code",
   "execution_count": 103,
   "metadata": {},
   "outputs": [
    {
     "name": "stdout",
     "output_type": "stream",
     "text": [
      "['Justin', 'Bikram', 'Wil']\n"
     ]
    }
   ],
   "source": [
    "# index to be removed, not value. Deleting item by INDEX. NEED TO REFERENCE FROM LIST.\n",
    "del (names[0])\n",
    "\n",
    "print(names)\n",
    "\n",
    "\n"
   ]
  },
  {
   "cell_type": "markdown",
   "metadata": {},
   "source": [
    "##### min()"
   ]
  },
  {
   "cell_type": "code",
   "execution_count": 104,
   "metadata": {},
   "outputs": [
    {
     "name": "stdout",
     "output_type": "stream",
     "text": [
      "0\n"
     ]
    }
   ],
   "source": [
    "# return the smallest item in a list\n",
    "numbers =[5,6,12,6,7,234,1,0,2]\n",
    "print(min(numbers))"
   ]
  },
  {
   "cell_type": "markdown",
   "metadata": {},
   "source": [
    "##### max()"
   ]
  },
  {
   "cell_type": "code",
   "execution_count": 105,
   "metadata": {},
   "outputs": [
    {
     "name": "stdout",
     "output_type": "stream",
     "text": [
      "234\n"
     ]
    }
   ],
   "source": [
    "# returns largest item in a list. Can use it for letters and it will return it in alphabetical order. \n",
    "numbers =[5,6,12,6,7,234,1,0,2]\n",
    "print(max(numbers))\n"
   ]
  },
  {
   "cell_type": "markdown",
   "metadata": {},
   "source": [
    "##### sum()"
   ]
  },
  {
   "cell_type": "code",
   "execution_count": 106,
   "metadata": {},
   "outputs": [
    {
     "name": "stdout",
     "output_type": "stream",
     "text": [
      "273\n"
     ]
    }
   ],
   "source": [
    "# return the sum of all numbers in a list\n",
    "numbers =[5,6,12,6,7,234,1,0,2]\n",
    "print(sum(numbers))\n",
    "\n"
   ]
  },
  {
   "cell_type": "markdown",
   "metadata": {},
   "source": [
    "##### sorted()"
   ]
  },
  {
   "cell_type": "code",
   "execution_count": 107,
   "metadata": {},
   "outputs": [
    {
     "name": "stdout",
     "output_type": "stream",
     "text": [
      "[0, 1, 2, 5, 6, 6, 7, 12, 234]\n"
     ]
    }
   ],
   "source": [
    "#sorted will return a new sorted list, create a new variable\n",
    "sorted_nums = sorted(numbers)\n",
    "print(sorted_nums)"
   ]
  },
  {
   "cell_type": "markdown",
   "metadata": {},
   "source": [
    "##### .sort() <br>\n",
    "<p>Difference between sort and sorted, is that sorted doesn't change original list it returns a copy, while .sort changes the original list</p>"
   ]
  },
  {
   "cell_type": "code",
   "execution_count": 108,
   "metadata": {},
   "outputs": [
    {
     "name": "stdout",
     "output_type": "stream",
     "text": [
      "[0, 1, 2, 5, 6, 6, 7, 12, 234]\n"
     ]
    }
   ],
   "source": [
    "#.sort() will sort the original list\n",
    "numbers.sort()\n",
    "print(numbers)"
   ]
  },
  {
   "cell_type": "markdown",
   "metadata": {},
   "source": [
    "##### Copying a List"
   ]
  },
  {
   "cell_type": "code",
   "execution_count": 110,
   "metadata": {},
   "outputs": [
    {
     "name": "stdout",
     "output_type": "stream",
     "text": [
      "['Grace', 'Justin', 'Michael', 'Connor', 'Wil']\n"
     ]
    }
   ],
   "source": [
    "# [:] copies a list, doesn't alter original'\n",
    "\n",
    "names = [\"Grace\", \"Justin\", \"Michael\", \"Connor\", \"Wil\"]\n",
    "more_names = names[:]\n",
    "print(more_names)"
   ]
  },
  {
   "cell_type": "markdown",
   "metadata": {},
   "source": [
    "##### Looping Through Lists"
   ]
  },
  {
   "cell_type": "code",
   "execution_count": 5,
   "metadata": {},
   "outputs": [
    {
     "name": "stdout",
     "output_type": "stream",
     "text": [
      "['Han Solo', 'Leia Organa', 'Luke Skywalker', 'Lando Calrissian', 'Mace Windu']\n",
      "['Han Solo', 'Leia Organa', 'Luke Skywalker', 'Lando Calrissian', 'Mace Windu']\n",
      "['Han Solo', 'Leia Organa', 'Luke Skywalker', 'Lando Calrissian', 'Mace Windu']\n",
      "['Han Solo', 'Leia Organa', 'Luke Skywalker', 'Lando Calrissian', 'Mace Windu']\n",
      "['Han Solo', 'Leia Organa', 'Luke Skywalker', 'Lando Calrissian', 'Mace Windu']\n",
      "\n",
      "\n"
     ]
    }
   ],
   "source": [
    "#Two ways to loop through a list. one is by index and the other is by value, using the \"in\" keyword\n",
    "names = [\"Han Solo\", \"Leia Organa\", \"Luke Skywalker\", \"Lando Calrissian\", \"Mace Windu\"]\n",
    "\n",
    "#looping by value\n",
    "for name in names:\n",
    "    print(names)\n",
    "print(\"\\n\")\n",
    "\n",
    "# #looping by index\n",
    "# for i in range(len(names)):\n",
    "#     print(names[i])\n",
    "    \n",
    "# print(\"\\n\")\n",
    "# #looping with enumerate\n",
    "# for i, value in enumerate(names):\n",
    "#     print(i, value)\n",
    "    \n"
   ]
  },
  {
   "cell_type": "markdown",
   "metadata": {},
   "source": [
    "##### 'in' keyword"
   ]
  },
  {
   "cell_type": "code",
   "execution_count": 120,
   "metadata": {},
   "outputs": [
    {
     "name": "stdout",
     "output_type": "stream",
     "text": [
      "Hello Grace!\n"
     ]
    }
   ],
   "source": [
    "names = [\"Grace\", \"Justin\", \"Michael\", \"Connor\", \"Wil\"]\n",
    "\n",
    "if \"Grace\" in names:\n",
    "    print(\"Hello Grace!\")\n",
    "else:\n",
    "    print(\"There is no Grace....\")\n",
    "\n"
   ]
  },
  {
   "cell_type": "markdown",
   "metadata": {},
   "source": [
    "##### 'not in' keyword"
   ]
  },
  {
   "cell_type": "code",
   "execution_count": 121,
   "metadata": {},
   "outputs": [
    {
     "name": "stdout",
     "output_type": "stream",
     "text": [
      "Well that does sound like a very good time\n"
     ]
    }
   ],
   "source": [
    "names = [\"Grace\", \"Justin\", \"Michael\", \"Connor\", \"Wil\"]\n",
    "if \"Ryan\" not in names:\n",
    "    print(\"Well that does sound like a very good time\")\n",
    "\n",
    "else:\n",
    "    print(\"Oh, yay\")"
   ]
  },
  {
   "cell_type": "markdown",
   "metadata": {},
   "source": [
    "##### Checking an Empty List"
   ]
  },
  {
   "cell_type": "code",
   "execution_count": 122,
   "metadata": {},
   "outputs": [
    {
     "name": "stdout",
     "output_type": "stream",
     "text": [
      "That is an empty list. Would ya just look at it\n"
     ]
    }
   ],
   "source": [
    "l_1 = []\n",
    "\n",
    "if l_1 == []:\n",
    "    print(\"That is an empty list. Would ya just look at it\")\n",
    "    \n",
    "# if l_3 == l_2:\n",
    "#     print(\"yes\")\n",
    "# else: \n",
    "#     print(\"no\")"
   ]
  },
  {
   "cell_type": "markdown",
   "metadata": {},
   "source": [
    "##### Removing Instances with a Loop"
   ]
  },
  {
   "cell_type": "code",
   "execution_count": 127,
   "metadata": {},
   "outputs": [
    {
     "name": "stdout",
     "output_type": "stream",
     "text": [
      "['Grace', 'Justin', 'Michael', 'Connor', 'Wil']\n",
      "['Grace', 'Justin', 'Connor', 'Wil']\n"
     ]
    }
   ],
   "source": [
    "#while, remove\n",
    "names = [\"Grace\", \"Justin\", \"Michael\", \"Michael\", \"Connor\", \"Wil\"]\n",
    "for name in names:\n",
    "    if name == \"Michael\":\n",
    "        names.remove(name)\n",
    "print(names)\n",
    "\n",
    "names = [\"Grace\", \"Justin\", \"Michael\", \"Michael\", \"Connor\", \"Wil\"]\n",
    "while \"Michael\" in names:\n",
    "    names.remove(\"Michael\")\n",
    "print(names)\n"
   ]
  },
  {
   "cell_type": "markdown",
   "metadata": {},
   "source": [
    "### List Exercise <br>\n",
    "<p>Remove all duplicates<br><b>Extra: Create a program that will remove any duplicates from a given list</b></p>"
   ]
  },
  {
   "cell_type": "code",
   "execution_count": 136,
   "metadata": {},
   "outputs": [
    {
     "name": "stdout",
     "output_type": "stream",
     "text": [
      "['connor', 'bob', 'evan', 'max', 2, 3, 4, 'kevin']\n"
     ]
    }
   ],
   "source": [
    "names = ['connor', 'connor', 'bob', 'connor', 'evan', 'max', 'evan', 2, 2, 2, 3, 3, 4, 'bob', 'kevin']\n",
    "# Hint 1: You will need an append\n",
    "# Hint 2: Using an empty list will make life easier\n",
    "new_names = []\n",
    "for name in names:\n",
    "    if name not in new_names:\n",
    "        new_names.append(name)\n",
    "print(new_names)\n",
    "\n"
   ]
  },
  {
   "cell_type": "markdown",
   "metadata": {},
   "source": [
    "### List Comprehensions <br>\n",
    "<p>Creating a quickly generated list to work with<br>*result*  = [*transform*    *iteration*         *filter*     ]</p>"
   ]
  },
  {
   "cell_type": "markdown",
   "metadata": {},
   "source": [
    "##### In a list comprehension we have a few pieces:\n",
    "1. The first is the counter/ variable - IN this the variable is x\n",
    "2. then we have a transform for the variable\n",
    "3. The finale part of a list comp is called the condition\n",
    "\n",
    "```python\n",
    "    [transform, iteration/variable, condition]\n",
    "```"
   ]
  },
  {
   "cell_type": "code",
   "execution_count": null,
   "metadata": {
    "scrolled": true
   },
   "outputs": [
    {
     "name": "stdout",
     "output_type": "stream",
     "text": [
      "[2, 4, 5, 6, 7, 8, 9, 10]\n"
     ]
    }
   ],
   "source": [
    "nums = [2, 4, 5, 6, 7, 8, 9, 10]\n",
    "nums2 = [x for x in nums]\n",
    "print(nums2)\n",
    "\n",
    "\n",
    "nums2 = []\n",
    "for x in nums:\n",
    "    nums.append(x)\n",
    "print(nums2)\n",
    "    "
   ]
  },
  {
   "cell_type": "code",
   "execution_count": 1,
   "metadata": {},
   "outputs": [
    {
     "name": "stdout",
     "output_type": "stream",
     "text": [
      "[4, 16, 25, 36, 49, 64, 81, 100]\n"
     ]
    }
   ],
   "source": [
    "nums = [2, 4, 5, 6, 7, 8, 9, 10]\n",
    "nums_square = [x**2 for x in nums]\n",
    "print(nums_square)\n"
   ]
  },
  {
   "cell_type": "code",
   "execution_count": 6,
   "metadata": {},
   "outputs": [
    {
     "name": "stdout",
     "output_type": "stream",
     "text": [
      "[4, 16, 36, 64, 100]\n"
     ]
    }
   ],
   "source": [
    "nums = [2, 4, 5, 6, 7, 8, 9, 10]\n",
    "nums_square = [x**2 for x in nums if x % 2 ==0]\n",
    "print(nums_square)\n",
    "\n",
    "nums3 = []\n",
    "for num in nums:\n",
    "    if num % 2 == 0:\n",
    "        nums3.append(num**2)"
   ]
  },
  {
   "cell_type": "markdown",
   "metadata": {},
   "source": [
    "There are a few benefits to using List comprehensions. The most obvious would be that we now have shorter code to work with instead of using 3+ lines of code in the for loop variant.\n",
    "\n",
    "Another is an added benefit to memory usage. Since the list's memory is allocated first before adding elements to it, we don't have to resize the list once we add elements to it.\n",
    "\n",
    "Lastly, list comprehensions are considered the \"pythonic\" way to write code by the PEP8 standards (Python Style Guide)"
   ]
  },
  {
   "cell_type": "markdown",
   "metadata": {},
   "source": [
    "### Tuples <br>\n",
    "<p><b>Defined as an immutable list</b></p><br>Seperated by commas using parenthesis"
   ]
  },
  {
   "cell_type": "code",
   "execution_count": 15,
   "metadata": {},
   "outputs": [
    {
     "name": "stdout",
     "output_type": "stream",
     "text": [
      "(1, 2, 3)\n",
      "(1, 2, 3)\n",
      "2\n",
      "1\n",
      "2\n",
      "3\n",
      "<class 'tuple'>\n",
      "3\n"
     ]
    }
   ],
   "source": [
    "#2pul\n",
    "#immutable meaning the contents of the tuple cannot be altered in any way. \n",
    "\n",
    "tup_1 = (1, 2, 3)\n",
    "tup_2 = 1, 2, 3\n",
    "\n",
    "print(tup_2)\n",
    "print(tup_1)\n",
    "\n",
    "print(tup_1[1])\n",
    "\n",
    "for num in tup_2:\n",
    "    print(num)\n",
    "\n",
    "print(type(tup_1))\n",
    "\n",
    "print(len(tup_2))"
   ]
  },
  {
   "cell_type": "markdown",
   "metadata": {},
   "source": [
    "##### sorted()"
   ]
  },
  {
   "cell_type": "code",
   "execution_count": 19,
   "metadata": {},
   "outputs": [
    {
     "name": "stdout",
     "output_type": "stream",
     "text": [
      "[1, 5, 10, 20, 95, 123]\n",
      "(1, 5, 10, 20, 95, 123)\n"
     ]
    }
   ],
   "source": [
    "tup = (20, 5, 1, 10, 95, 123)\n",
    "\n",
    "print(sorted(tup))\n",
    "\n",
    "new_tup = tuple(sorted(tup))\n",
    "print(new_tup)"
   ]
  },
  {
   "cell_type": "markdown",
   "metadata": {},
   "source": [
    "##### Adding values to a Tuple"
   ]
  },
  {
   "cell_type": "code",
   "execution_count": 22,
   "metadata": {
    "scrolled": true
   },
   "outputs": [
    {
     "name": "stdout",
     "output_type": "stream",
     "text": [
      "(20, 5, 1, 10, 95, 123)\n"
     ]
    },
    {
     "data": {
      "text/plain": [
       "False"
      ]
     },
     "execution_count": 22,
     "metadata": {},
     "output_type": "execute_result"
    }
   ],
   "source": [
    "print(tup)\n",
    "\n",
    "tup == tup + (6, 5)"
   ]
  },
  {
   "cell_type": "code",
   "execution_count": 27,
   "metadata": {},
   "outputs": [
    {
     "name": "stdout",
     "output_type": "stream",
     "text": [
      "Hello There\n",
      "[1, 2, 3, 4, 5, 6, 7, 8, 9, 10]\n"
     ]
    }
   ],
   "source": [
    "#list_concatenation\n",
    "\n",
    "my_string1 = \"Hello\"\n",
    "my_string2 = \"There\"\n",
    "my_string3 = my_string1 + \" \" + my_string2\n",
    "\n",
    "print(my_string3)\n",
    "\n",
    "my_list1 = [1,2,3,4,5]\n",
    "my_list2 = [6,7,8,9,10]\n",
    "\n",
    "my_list3 = my_list1 + my_list2\n",
    "\n",
    "print(my_list3)\n"
   ]
  },
  {
   "cell_type": "markdown",
   "metadata": {},
   "source": [
    "# Exercises"
   ]
  },
  {
   "cell_type": "markdown",
   "metadata": {},
   "source": [
    "## Exercise 1 <br>\n",
    "<p>Using the given list, print out a filtered version of the list with only the numbers that are less than ten</b></i></p><br>\n"
   ]
  },
  {
   "cell_type": "code",
   "execution_count": 21,
   "metadata": {},
   "outputs": [
    {
     "name": "stdout",
     "output_type": "stream",
     "text": [
      "1\n",
      "5\n",
      "8\n",
      "9\n"
     ]
    }
   ],
   "source": [
    "alist = [1,11,14,5,8,9]\n",
    "\n",
    "for i in alist:\n",
    "    blist = []\n",
    "    if i < 10:\n",
    "        blist.append(i)\n",
    "        print(i)\n"
   ]
  },
  {
   "cell_type": "markdown",
   "metadata": {},
   "source": [
    "## Exercise 2 <br>\n",
    "<p>Merge and sort the two lists below<br>\n",
    "<b><i>Hint: You can use the .sort() method</i></b></p>"
   ]
  },
  {
   "cell_type": "code",
   "execution_count": 32,
   "metadata": {},
   "outputs": [
    {
     "name": "stdout",
     "output_type": "stream",
     "text": [
      "[1, 2, 3, 3, 4, 4, 5, 5, 6, 6, 7, 8, 10]\n"
     ]
    }
   ],
   "source": [
    "l_1 = [1,2,3,4,5,6]\n",
    "l_2 = [3,4,5,6,7,8,10]\n",
    "l_3 = l_1 + l_2\n",
    "\n",
    "l_3.sort()\n",
    "print(l_3)\n",
    "\n"
   ]
  },
  {
   "cell_type": "markdown",
   "metadata": {},
   "source": [
    "## Exercise 3 <br>\n",
    "<p>Square every number from 1 to 15<br>\n"
   ]
  },
  {
   "cell_type": "code",
   "execution_count": 8,
   "metadata": {},
   "outputs": [
    {
     "name": "stdout",
     "output_type": "stream",
     "text": [
      "0\n",
      "1\n",
      "4\n",
      "9\n",
      "16\n",
      "25\n",
      "36\n",
      "49\n",
      "64\n",
      "81\n",
      "100\n",
      "121\n",
      "144\n",
      "169\n",
      "196\n"
     ]
    }
   ],
   "source": [
    "#include 15 \n",
    "#maybe right a function with a list?\n",
    "#or maybe the range function\n",
    "\n",
    "for num in range(15):\n",
    "    print(num**2)\n",
    "\n",
    "\n",
    "\n"
   ]
  },
  {
   "cell_type": "markdown",
   "metadata": {},
   "source": [
    "## Exercise 4<br>\n",
    "<p>Using List Comprehension and the given list, print out a filtered list with \n",
    "only the names that start with the letter 'a'. \n",
    "The names in the outputted list should be title cased and have no whitespace.<br>\n"
   ]
  },
  {
   "cell_type": "code",
   "execution_count": 30,
   "metadata": {},
   "outputs": [
    {
     "name": "stdout",
     "output_type": "stream",
     "text": [
      "Amy\n",
      "Briant\n",
      "Ryan\n",
      "Alex\n",
      "Steve\n",
      "\n"
     ]
    }
   ],
   "source": [
    "names_list = ['   amy', 'Briant', 'Ryan ', ' Alex', 'steve', '  ']\n",
    "\n",
    "for name in names_list:\n",
    "    print(name.title().strip())\n",
    "\n"
   ]
  },
  {
   "cell_type": "markdown",
   "metadata": {},
   "source": [
    "## Exercise 5 <br>\n",
    "<p>Print all Prime numbers from 1 to 100<br>\n"
   ]
  },
  {
   "cell_type": "code",
   "execution_count": null,
   "metadata": {},
   "outputs": [],
   "source": []
  }
 ],
 "metadata": {
  "kernelspec": {
   "display_name": "Python 3 (ipykernel)",
   "language": "python",
   "name": "python3"
  },
  "language_info": {
   "codemirror_mode": {
    "name": "ipython",
    "version": 3
   },
   "file_extension": ".py",
   "mimetype": "text/x-python",
   "name": "python",
   "nbconvert_exporter": "python",
   "pygments_lexer": "ipython3",
   "version": "3.11.5"
  }
 },
 "nbformat": 4,
 "nbformat_minor": 4
}
